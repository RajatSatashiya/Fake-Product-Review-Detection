{
 "cells": [
  {
   "cell_type": "markdown",
   "id": "41b31dd1",
   "metadata": {},
   "source": [
    "### Importing the libraries"
   ]
  },
  {
   "cell_type": "code",
   "execution_count": 8,
   "id": "e61307c0",
   "metadata": {},
   "outputs": [],
   "source": [
    "import numpy as np\n",
    "import matplotlib.pyplot as plt\n",
    "import pandas as pd\n",
    "import pickle"
   ]
  },
  {
   "cell_type": "markdown",
   "id": "edffdab0",
   "metadata": {},
   "source": [
    "### Importing the dataset"
   ]
  },
  {
   "cell_type": "code",
   "execution_count": 9,
   "id": "11609c2c",
   "metadata": {},
   "outputs": [],
   "source": [
    "dataset = pd.read_csv('datasetfake2.csv')"
   ]
  },
  {
   "cell_type": "code",
   "execution_count": 10,
   "id": "3b1063be",
   "metadata": {},
   "outputs": [
    {
     "data": {
      "text/html": [
       "<div>\n",
       "<style scoped>\n",
       "    .dataframe tbody tr th:only-of-type {\n",
       "        vertical-align: middle;\n",
       "    }\n",
       "\n",
       "    .dataframe tbody tr th {\n",
       "        vertical-align: top;\n",
       "    }\n",
       "\n",
       "    .dataframe thead th {\n",
       "        text-align: right;\n",
       "    }\n",
       "</style>\n",
       "<table border=\"1\" class=\"dataframe\">\n",
       "  <thead>\n",
       "    <tr style=\"text-align: right;\">\n",
       "      <th></th>\n",
       "      <th>category</th>\n",
       "      <th>rating</th>\n",
       "      <th>review</th>\n",
       "      <th>result</th>\n",
       "    </tr>\n",
       "  </thead>\n",
       "  <tbody>\n",
       "    <tr>\n",
       "      <th>0</th>\n",
       "      <td>Home_and_Kitchen_5</td>\n",
       "      <td>5</td>\n",
       "      <td>Love this!  Well made, sturdy, and very comfor...</td>\n",
       "      <td>CG</td>\n",
       "    </tr>\n",
       "    <tr>\n",
       "      <th>1</th>\n",
       "      <td>Home_and_Kitchen_5</td>\n",
       "      <td>5</td>\n",
       "      <td>love it, a great upgrade from the original.  I...</td>\n",
       "      <td>CG</td>\n",
       "    </tr>\n",
       "    <tr>\n",
       "      <th>2</th>\n",
       "      <td>Home_and_Kitchen_5</td>\n",
       "      <td>5</td>\n",
       "      <td>This pillow saved my back. I love the look and...</td>\n",
       "      <td>CG</td>\n",
       "    </tr>\n",
       "    <tr>\n",
       "      <th>3</th>\n",
       "      <td>Home_and_Kitchen_5</td>\n",
       "      <td>1</td>\n",
       "      <td>Missing information on how to use it, but it i...</td>\n",
       "      <td>CG</td>\n",
       "    </tr>\n",
       "    <tr>\n",
       "      <th>4</th>\n",
       "      <td>Home_and_Kitchen_5</td>\n",
       "      <td>5</td>\n",
       "      <td>Very nice set. Good quality. We have had the s...</td>\n",
       "      <td>CG</td>\n",
       "    </tr>\n",
       "  </tbody>\n",
       "</table>\n",
       "</div>"
      ],
      "text/plain": [
       "             category  rating  \\\n",
       "0  Home_and_Kitchen_5       5   \n",
       "1  Home_and_Kitchen_5       5   \n",
       "2  Home_and_Kitchen_5       5   \n",
       "3  Home_and_Kitchen_5       1   \n",
       "4  Home_and_Kitchen_5       5   \n",
       "\n",
       "                                              review result  \n",
       "0  Love this!  Well made, sturdy, and very comfor...     CG  \n",
       "1  love it, a great upgrade from the original.  I...     CG  \n",
       "2  This pillow saved my back. I love the look and...     CG  \n",
       "3  Missing information on how to use it, but it i...     CG  \n",
       "4  Very nice set. Good quality. We have had the s...     CG  "
      ]
     },
     "execution_count": 10,
     "metadata": {},
     "output_type": "execute_result"
    }
   ],
   "source": [
    "dataset.head()"
   ]
  },
  {
   "cell_type": "code",
   "execution_count": 11,
   "id": "ec69c304",
   "metadata": {},
   "outputs": [
    {
     "data": {
      "text/html": [
       "<div>\n",
       "<style scoped>\n",
       "    .dataframe tbody tr th:only-of-type {\n",
       "        vertical-align: middle;\n",
       "    }\n",
       "\n",
       "    .dataframe tbody tr th {\n",
       "        vertical-align: top;\n",
       "    }\n",
       "\n",
       "    .dataframe thead th {\n",
       "        text-align: right;\n",
       "    }\n",
       "</style>\n",
       "<table border=\"1\" class=\"dataframe\">\n",
       "  <thead>\n",
       "    <tr style=\"text-align: right;\">\n",
       "      <th></th>\n",
       "      <th>category</th>\n",
       "      <th>rating</th>\n",
       "      <th>review</th>\n",
       "      <th>result</th>\n",
       "    </tr>\n",
       "  </thead>\n",
       "  <tbody>\n",
       "    <tr>\n",
       "      <th>33887</th>\n",
       "      <td>Toys_and_Games_5</td>\n",
       "      <td>5</td>\n",
       "      <td>If you have a young child they will love this ...</td>\n",
       "      <td>OR</td>\n",
       "    </tr>\n",
       "    <tr>\n",
       "      <th>33888</th>\n",
       "      <td>Toys_and_Games_5</td>\n",
       "      <td>5</td>\n",
       "      <td>Purchased this for my wonderful grandson, who ...</td>\n",
       "      <td>OR</td>\n",
       "    </tr>\n",
       "    <tr>\n",
       "      <th>33889</th>\n",
       "      <td>Toys_and_Games_5</td>\n",
       "      <td>5</td>\n",
       "      <td>A happy customer in Hawaii!  I bought these fo...</td>\n",
       "      <td>OR</td>\n",
       "    </tr>\n",
       "    <tr>\n",
       "      <th>33890</th>\n",
       "      <td>Toys_and_Games_5</td>\n",
       "      <td>5</td>\n",
       "      <td>Classic, doesn;t get better the an oldschool t...</td>\n",
       "      <td>OR</td>\n",
       "    </tr>\n",
       "    <tr>\n",
       "      <th>33891</th>\n",
       "      <td>Toys_and_Games_5</td>\n",
       "      <td>5</td>\n",
       "      <td>Great quality, educational, colorful.  My 2 ye...</td>\n",
       "      <td>OR</td>\n",
       "    </tr>\n",
       "  </tbody>\n",
       "</table>\n",
       "</div>"
      ],
      "text/plain": [
       "               category  rating  \\\n",
       "33887  Toys_and_Games_5       5   \n",
       "33888  Toys_and_Games_5       5   \n",
       "33889  Toys_and_Games_5       5   \n",
       "33890  Toys_and_Games_5       5   \n",
       "33891  Toys_and_Games_5       5   \n",
       "\n",
       "                                                  review result  \n",
       "33887  If you have a young child they will love this ...     OR  \n",
       "33888  Purchased this for my wonderful grandson, who ...     OR  \n",
       "33889  A happy customer in Hawaii!  I bought these fo...     OR  \n",
       "33890  Classic, doesn;t get better the an oldschool t...     OR  \n",
       "33891  Great quality, educational, colorful.  My 2 ye...     OR  "
      ]
     },
     "execution_count": 11,
     "metadata": {},
     "output_type": "execute_result"
    }
   ],
   "source": [
    "dataset.tail()"
   ]
  },
  {
   "cell_type": "markdown",
   "id": "7708e44f",
   "metadata": {},
   "source": [
    "### Extracting the required feature"
   ]
  },
  {
   "cell_type": "code",
   "execution_count": 12,
   "id": "41b72bf0",
   "metadata": {},
   "outputs": [
    {
     "name": "stderr",
     "output_type": "stream",
     "text": [
      "C:\\Users\\RAJAT\\anaconda3\\lib\\site-packages\\pandas\\core\\indexing.py:1637: SettingWithCopyWarning: \n",
      "A value is trying to be set on a copy of a slice from a DataFrame\n",
      "\n",
      "See the caveats in the documentation: https://pandas.pydata.org/pandas-docs/stable/user_guide/indexing.html#returning-a-view-versus-a-copy\n",
      "  self._setitem_single_block(indexer, value, name)\n",
      "C:\\Users\\RAJAT\\anaconda3\\lib\\site-packages\\pandas\\core\\indexing.py:692: SettingWithCopyWarning: \n",
      "A value is trying to be set on a copy of a slice from a DataFrame\n",
      "\n",
      "See the caveats in the documentation: https://pandas.pydata.org/pandas-docs/stable/user_guide/indexing.html#returning-a-view-versus-a-copy\n",
      "  iloc._setitem_with_indexer(indexer, value, self.name)\n"
     ]
    },
    {
     "data": {
      "text/html": [
       "<div>\n",
       "<style scoped>\n",
       "    .dataframe tbody tr th:only-of-type {\n",
       "        vertical-align: middle;\n",
       "    }\n",
       "\n",
       "    .dataframe tbody tr th {\n",
       "        vertical-align: top;\n",
       "    }\n",
       "\n",
       "    .dataframe thead th {\n",
       "        text-align: right;\n",
       "    }\n",
       "</style>\n",
       "<table border=\"1\" class=\"dataframe\">\n",
       "  <thead>\n",
       "    <tr style=\"text-align: right;\">\n",
       "      <th></th>\n",
       "      <th>review</th>\n",
       "      <th>result</th>\n",
       "    </tr>\n",
       "  </thead>\n",
       "  <tbody>\n",
       "    <tr>\n",
       "      <th>0</th>\n",
       "      <td>Love this!  Well made, sturdy, and very comfor...</td>\n",
       "      <td>0</td>\n",
       "    </tr>\n",
       "    <tr>\n",
       "      <th>1</th>\n",
       "      <td>love it, a great upgrade from the original.  I...</td>\n",
       "      <td>0</td>\n",
       "    </tr>\n",
       "    <tr>\n",
       "      <th>2</th>\n",
       "      <td>This pillow saved my back. I love the look and...</td>\n",
       "      <td>0</td>\n",
       "    </tr>\n",
       "    <tr>\n",
       "      <th>3</th>\n",
       "      <td>Missing information on how to use it, but it i...</td>\n",
       "      <td>0</td>\n",
       "    </tr>\n",
       "    <tr>\n",
       "      <th>4</th>\n",
       "      <td>Very nice set. Good quality. We have had the s...</td>\n",
       "      <td>0</td>\n",
       "    </tr>\n",
       "    <tr>\n",
       "      <th>...</th>\n",
       "      <td>...</td>\n",
       "      <td>...</td>\n",
       "    </tr>\n",
       "    <tr>\n",
       "      <th>33887</th>\n",
       "      <td>If you have a young child they will love this ...</td>\n",
       "      <td>1</td>\n",
       "    </tr>\n",
       "    <tr>\n",
       "      <th>33888</th>\n",
       "      <td>Purchased this for my wonderful grandson, who ...</td>\n",
       "      <td>1</td>\n",
       "    </tr>\n",
       "    <tr>\n",
       "      <th>33889</th>\n",
       "      <td>A happy customer in Hawaii!  I bought these fo...</td>\n",
       "      <td>1</td>\n",
       "    </tr>\n",
       "    <tr>\n",
       "      <th>33890</th>\n",
       "      <td>Classic, doesn;t get better the an oldschool t...</td>\n",
       "      <td>1</td>\n",
       "    </tr>\n",
       "    <tr>\n",
       "      <th>33891</th>\n",
       "      <td>Great quality, educational, colorful.  My 2 ye...</td>\n",
       "      <td>1</td>\n",
       "    </tr>\n",
       "  </tbody>\n",
       "</table>\n",
       "<p>33892 rows × 2 columns</p>\n",
       "</div>"
      ],
      "text/plain": [
       "                                                  review result\n",
       "0      Love this!  Well made, sturdy, and very comfor...      0\n",
       "1      love it, a great upgrade from the original.  I...      0\n",
       "2      This pillow saved my back. I love the look and...      0\n",
       "3      Missing information on how to use it, but it i...      0\n",
       "4      Very nice set. Good quality. We have had the s...      0\n",
       "...                                                  ...    ...\n",
       "33887  If you have a young child they will love this ...      1\n",
       "33888  Purchased this for my wonderful grandson, who ...      1\n",
       "33889  A happy customer in Hawaii!  I bought these fo...      1\n",
       "33890  Classic, doesn;t get better the an oldschool t...      1\n",
       "33891  Great quality, educational, colorful.  My 2 ye...      1\n",
       "\n",
       "[33892 rows x 2 columns]"
      ]
     },
     "execution_count": 12,
     "metadata": {},
     "output_type": "execute_result"
    }
   ],
   "source": [
    "ds = dataset[['review','result']]\n",
    "ds.loc[ds['result'] == 'CG', 'result'] = 0\n",
    "ds.loc[ds['result'] == 'OR', 'result'] = 1\n",
    "ds\n",
    "\n",
    "## \"0\" -> fake review\n",
    "## \"1\" -> original review"
   ]
  },
  {
   "cell_type": "code",
   "execution_count": 13,
   "id": "d79516eb",
   "metadata": {},
   "outputs": [
    {
     "data": {
      "text/plain": [
       "'I WANTED DIFFERENT FLAVORS BUT THEY ARE NOT.'"
      ]
     },
     "execution_count": 13,
     "metadata": {},
     "output_type": "execute_result"
    }
   ],
   "source": [
    "dataset['review'][5]"
   ]
  },
  {
   "cell_type": "markdown",
   "id": "099d3d3e",
   "metadata": {},
   "source": [
    "### Cleaning the text"
   ]
  },
  {
   "cell_type": "code",
   "execution_count": 14,
   "id": "88fb103a",
   "metadata": {},
   "outputs": [
    {
     "name": "stderr",
     "output_type": "stream",
     "text": [
      "[nltk_data] Downloading package stopwords to\n",
      "[nltk_data]     C:\\Users\\RAJAT\\AppData\\Roaming\\nltk_data...\n",
      "[nltk_data]   Package stopwords is already up-to-date!\n"
     ]
    }
   ],
   "source": [
    "import re\n",
    "import nltk\n",
    "nltk.download('stopwords')\n",
    "from nltk.corpus import stopwords\n",
    "from nltk.stem.porter import PorterStemmer\n",
    "corpus = []\n",
    "for i in range(0, 33892):\n",
    "  review = re.sub('[^a-zA-Z]', ' ', dataset['review'][i])\n",
    "  review = review.lower()\n",
    "  review = review.split()\n",
    "  ps = PorterStemmer()\n",
    "  all_stopwords = stopwords.words('english')\n",
    "  all_stopwords.remove('not')\n",
    "  review = [ps.stem(word) for word in review if not word in set(all_stopwords)]\n",
    "  review = ' '.join(review)\n",
    "  corpus.append(review)\n"
   ]
  },
  {
   "cell_type": "markdown",
   "id": "0a6410fc",
   "metadata": {},
   "source": [
    "### Creating the Bag of Words model"
   ]
  },
  {
   "cell_type": "code",
   "execution_count": 15,
   "id": "3ee494b3",
   "metadata": {},
   "outputs": [],
   "source": [
    "from sklearn.feature_extraction.text import CountVectorizer\n",
    "#cv = CountVectorizer(max_features=26091)\n",
    "cv = CountVectorizer()\n",
    "X = cv.fit_transform(corpus).toarray()\n",
    "y = dataset.iloc[:, -1].values"
   ]
  },
  {
   "cell_type": "code",
   "execution_count": 16,
   "id": "f309aa7a",
   "metadata": {},
   "outputs": [
    {
     "name": "stdout",
     "output_type": "stream",
     "text": [
      "want differ flavor not\n"
     ]
    }
   ],
   "source": [
    "print((corpus[5])) #I WANTED DIFFERENT FLAVORS BUT THEY ARE NOT."
   ]
  },
  {
   "cell_type": "markdown",
   "id": "007406bc",
   "metadata": {},
   "source": [
    "### Splitting the dataset into the Training set and Test set"
   ]
  },
  {
   "cell_type": "code",
   "execution_count": 17,
   "id": "d9dd1b07",
   "metadata": {},
   "outputs": [],
   "source": [
    "from sklearn.model_selection import train_test_split\n",
    "X_train, X_test, y_train, y_test = train_test_split(X, y, test_size = 0.20, random_state = 0)"
   ]
  },
  {
   "cell_type": "markdown",
   "id": "eba68887",
   "metadata": {},
   "source": [
    "### Training the Naive Bayes model on the Training set\n"
   ]
  },
  {
   "cell_type": "code",
   "execution_count": 18,
   "id": "152f9404",
   "metadata": {},
   "outputs": [
    {
     "data": {
      "text/plain": [
       "GaussianNB()"
      ]
     },
     "execution_count": 18,
     "metadata": {},
     "output_type": "execute_result"
    }
   ],
   "source": [
    "from sklearn.naive_bayes import GaussianNB\n",
    "classifier = GaussianNB()\n",
    "classifier.fit(X_train, y_train)"
   ]
  },
  {
   "cell_type": "markdown",
   "id": "1dfad0ce",
   "metadata": {},
   "source": [
    "### Predicting the Test set results"
   ]
  },
  {
   "cell_type": "code",
   "execution_count": 12,
   "id": "1bc18a5d",
   "metadata": {},
   "outputs": [
    {
     "name": "stdout",
     "output_type": "stream",
     "text": [
      "[['OR' 'OR']\n",
      " ['CG' 'CG']\n",
      " ['CG' 'CG']\n",
      " ...\n",
      " ['OR' 'OR']\n",
      " ['OR' 'OR']\n",
      " ['OR' 'OR']]\n"
     ]
    }
   ],
   "source": [
    "y_pred = classifier.predict(X_test)\n",
    "print(np.concatenate((y_pred.reshape(len(y_pred),1), y_test.reshape(len(y_test),1)),1))"
   ]
  },
  {
   "cell_type": "markdown",
   "id": "b9c9f958",
   "metadata": {},
   "source": [
    "### Making the Confusion Matrix"
   ]
  },
  {
   "cell_type": "code",
   "execution_count": 13,
   "id": "21e8dff0",
   "metadata": {},
   "outputs": [
    {
     "name": "stdout",
     "output_type": "stream",
     "text": [
      "[[2865  463]\n",
      " [1490 1961]]\n"
     ]
    },
    {
     "data": {
      "text/plain": [
       "0.7119044106800413"
      ]
     },
     "execution_count": 13,
     "metadata": {},
     "output_type": "execute_result"
    }
   ],
   "source": [
    "from sklearn.metrics import confusion_matrix, accuracy_score\n",
    "cm = confusion_matrix(y_test, y_pred)\n",
    "print(cm)\n",
    "accuracy_score(y_test, y_pred)"
   ]
  },
  {
   "cell_type": "markdown",
   "id": "827f926a",
   "metadata": {},
   "source": [
    "### Exporting the model"
   ]
  },
  {
   "cell_type": "code",
   "execution_count": 19,
   "id": "14636b90",
   "metadata": {},
   "outputs": [],
   "source": [
    "#pickle.dump(classifier,open('model.pkl','wb'))\n",
    "model=pickle.load(open('model.pkl','rb'))"
   ]
  },
  {
   "cell_type": "code",
   "execution_count": 25,
   "id": "7ca60c2a",
   "metadata": {},
   "outputs": [
    {
     "name": "stdout",
     "output_type": "stream",
     "text": [
      "negative and Computer Generated\n"
     ]
    }
   ],
   "source": [
    "#message = \"bad bad bad the functioning is awful, keyboard makes a lot of noise\"\n",
    "message = \"good\"\n",
    "data = [message]\n",
    "vect = cv.transform(data).toarray()\n",
    "pred = model.predict(vect)\n",
    "#classifier.predict(np.array([X1.ravel(), X2.ravel()]).T).reshape(X1.shape))\\\n",
    "if(pred[0] == \"CG\"):\n",
    "    print(\"Computer Generated\")\n",
    "else:\n",
    "    print(\"Original\")"
   ]
  }
 ],
 "metadata": {
  "kernelspec": {
   "display_name": "Python 3",
   "language": "python",
   "name": "python3"
  },
  "language_info": {
   "codemirror_mode": {
    "name": "ipython",
    "version": 3
   },
   "file_extension": ".py",
   "mimetype": "text/x-python",
   "name": "python",
   "nbconvert_exporter": "python",
   "pygments_lexer": "ipython3",
   "version": "3.8.8"
  }
 },
 "nbformat": 4,
 "nbformat_minor": 5
}
